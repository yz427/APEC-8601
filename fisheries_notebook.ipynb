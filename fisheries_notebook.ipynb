{
 "cells": [
  {
   "cell_type": "markdown",
   "metadata": {
    "pycharm": {
     "name": "#%% md\n"
    }
   },
   "source": [
    "# Solving a fisheries optimization in Python\n",
    "\n",
    "This notebook will introduce you both to a classical Optimal Control problem defined for a fishery but also will show you how to use GEKKO, an open-source dynamic optimization toolkit.\n",
    "\n",
    "Unlike if you have taken my big-data course, this will be run primarily through an online, cloud-hosted Docker image. You don't need to know what this means other than to (hopefully) appreciate that the only software you will require is Chrome (or a modern equivilent).\n",
    "\n",
    "## Import required packages\n",
    "\n",
    "These lines will import the packages into python. On the line import numpy as np, the np is just a shortened version of the name that we will assign the package to so we don't have to write out numpy each time. Same for plt."
   ]
  },
  {
   "cell_type": "code",
   "execution_count": null,
   "metadata": {
    "pycharm": {
     "name": "#%% Imports\n"
    }
   },
   "outputs": [],
   "source": [
    "from gekko import GEKKO\n",
    "import numpy as np\n",
    "import matplotlib.pyplot as plt\n"
   ]
  },
  {
   "cell_type": "markdown",
   "metadata": {
    "pycharm": {
     "name": "#%% md\n"
    }
   },
   "source": [
    "Next we will create the GEKKO model and save it as the variable m. Python is an \"object oriented programming language\". Understanding this fully is outside the domain of this course, but for our purposes here, just know that when we called GEKKO(), it created a big, complex object and saved it in m. We will use this object below to store input parameters and it will also give us the key functions (called \"methods\" when they are attached to an object) we need to run the optimization."
   ]
  },
  {
   "cell_type": "code",
   "execution_count": null,
   "metadata": {},
   "outputs": [],
   "source": [
    "m = GEKKO()\n",
    "print('Printing out the object, which will tell us how it wants to be expressed:')\n",
    "print(m)"
   ]
  },
  {
   "cell_type": "markdown",
   "metadata": {
    "pycharm": {
     "name": "#%% md\n"
    }
   },
   "source": [
    "Now that the object is created, we can set it's attributes, which are denoted via a \"dot\", as in m.attrbute. We will also be setting the key constants for our model (refer to lecture notes)."
   ]
  },
  {
   "cell_type": "code",
   "execution_count": null,
   "metadata": {
    "pycharm": {
     "name": "#%%\n"
    }
   },
   "outputs": [],
   "source": [
    "# time points\n",
    "n=501\n",
    "m.time = np.linspace(0,10,n)\n",
    "\n",
    "# constants\n",
    "p = 1 # A price index\n",
    "c = 17.5 # Cost\n",
    "r = 0.71 # Intrinsic growth rate (from logistic function)\n",
    "k = 80.5 # Carrying capacity\n",
    "Y_max = 20 # Maximum effort one could expend\n",
    "q = 1 # An index of fishing \"effort\" per the Shaeffer model design.\n",
    "\n",
    "print('Time attribute: ' + str(m.time))"
   ]
  },
  {
   "cell_type": "markdown",
   "metadata": {},
   "source": [
    "The above variables were constant and so were defined just as python variables. Now, however, we need to create our more complex \"state\" and \"contorl\" variables. GEKKO gives us some functions to create these, such as m.MV(), which is a \"Manipulated Variables\" in GEKKO's terminology but what we have been calling control variable. When creating this u function, we also give it a few input parameters such as the lower-bound and upper-bound.\n",
    "\n",
    "Create the control variable:"
   ]
  },
  {
   "cell_type": "code",
   "execution_count": null,
   "metadata": {
    "pycharm": {
     "name": "#%%\n"
    }
   },
   "outputs": [],
   "source": [
    "# fishing rate\n",
    "y = m.MV(value=1,lb=0,ub=1)\n",
    "y.STATUS = 1\n",
    "y.DCOST = 0"
   ]
  },
  {
   "cell_type": "markdown",
   "metadata": {},
   "source": [
    "Now we're going to create a GEKKO variable, which is the thing that the solver will be solving to meet the constraints."
   ]
  },
  {
   "cell_type": "code",
   "execution_count": null,
   "metadata": {
    "pycharm": {
     "name": "#%%\n"
    }
   },
   "outputs": [],
   "source": [
    "# fish population\n",
    "x = m.Var(value=70)"
   ]
  },
  {
   "cell_type": "markdown",
   "metadata": {},
   "source": [
    "Define our equation of motion as a GEKKO Equation. Note that the this expression has both python variables (e.g. the constants from above) and GEKKO variables that will be changing as we solve it.\n",
    "\n",
    "TASK! Define the fish population equation of motion using our notes on the logistic growth curve. Fill in the MISSING_PART with a mathematical representation of the model using the coefficients defined above."
   ]
  },
  {
   "cell_type": "code",
   "execution_count": null,
   "metadata": {
    "pycharm": {
     "name": "#%%\n"
    }
   },
   "outputs": [],
   "source": [
    "MISSING_PART = None\n",
    "m.Equation(x.dt() == MISSING_PART)"
   ]
  },
  {
   "cell_type": "markdown",
   "metadata": {},
   "source": [
    "The objective function itself (profit), is defined as a value J, but then we also will be defining a Final objective, Jf, which we will use in the solution."
   ]
  },
  {
   "cell_type": "code",
   "execution_count": null,
   "metadata": {
    "pycharm": {
     "name": "#%%\n"
    }
   },
   "outputs": [],
   "source": [
    "# objective (profit)\n",
    "J = m.Var(value=0)\n",
    "# final objective\n",
    "Jf = m.FV()\n",
    "Jf.STATUS = 1"
   ]
  },
  {
   "cell_type": "markdown",
   "metadata": {},
   "source": [
    "In order to connect the different functions, we are going to use the m.Connection method. Here we connect the final objective function to the end position of our objective J.\n",
    "\n",
    "TASK! Like above, fill in the equation for J.dt() by replacing the MISSING_PART with the Schaeffer equation of benefit using the coefficients defined above."
   ]
  },
  {
   "cell_type": "code",
   "execution_count": null,
   "metadata": {
    "pycharm": {
     "name": "#%%\n"
    }
   },
   "outputs": [],
   "source": [
    "m.Connection(Jf,J,pos2='end')\n",
    "\n",
    "m.Equation(J.dt() == MISSING_PART)\n",
    "\n",
    "# Also define what exactly we will be Maximizing in the model\n",
    "m.Maximize(Jf)"
   ]
  },
  {
   "cell_type": "markdown",
   "metadata": {},
   "source": [
    "GEKKO has many solution methods which we set below. Notice that here we're telling GEKKO that we want this solved via optimal control methods and that it will use a particular solvew (IPOPT)."
   ]
  },
  {
   "cell_type": "code",
   "execution_count": null,
   "metadata": {
    "pycharm": {
     "name": "#%%\n"
    }
   },
   "outputs": [],
   "source": [
    "# options\n",
    "m.options.IMODE = 6  # optimal control\n",
    "m.options.NODES = 3  # collocation nodes\n",
    "m.options.SOLVER = 3 # solver (IPOPT)"
   ]
  },
  {
   "cell_type": "markdown",
   "metadata": {},
   "source": [
    "Now, after all this hard work, we can finally call the solve() method from our object."
   ]
  },
  {
   "cell_type": "code",
   "execution_count": null,
   "metadata": {
    "pycharm": {
     "name": "#%%\n"
    }
   },
   "outputs": [],
   "source": [
    "# solve optimization problem\n",
    "m.solve()\n",
    "\n",
    "# print profit\n",
    "print('Optimal Profit: ' + str(Jf.value[0]))"
   ]
  },
  {
   "cell_type": "markdown",
   "metadata": {
    "pycharm": {
     "name": "#%% md\n"
    }
   },
   "source": [
    "Now just plot the results!"
   ]
  },
  {
   "cell_type": "code",
   "execution_count": null,
   "metadata": {
    "pycharm": {
     "name": "#%%\n"
    }
   },
   "outputs": [],
   "source": [
    "# plot results\n",
    "plt.figure(figsize=(8, 6), dpi=80)\n",
    "\n",
    "plt.subplot(2,1,1)\n",
    "plt.plot(m.time,J.value,'r--',label='profit')\n",
    "plt.plot(m.time[-1],Jf.value[0],'ro',markersize=10,\n",
    "         label='final profit = '+str(Jf.value[0]))\n",
    "plt.plot(m.time,x.value,'b-',label='fish population')\n",
    "plt.ylabel('Value')\n",
    "plt.legend()\n",
    "plt.subplot(2,1,2)\n",
    "plt.plot(m.time,y.value,'k.-',label='fishing rate')\n",
    "plt.ylabel('Rate')\n",
    "plt.xlabel('Time (yr)')\n",
    "plt.legend()\n",
    "plt.show()\n"
   ]
  }
 ],
 "metadata": {
  "kernelspec": {
   "display_name": "Python 3 (ipykernel)",
   "language": "python",
   "name": "python3"
  },
  "language_info": {
   "codemirror_mode": {
    "name": "ipython",
    "version": 3
   },
   "file_extension": ".py",
   "mimetype": "text/x-python",
   "name": "python",
   "nbconvert_exporter": "python",
   "pygments_lexer": "ipython3",
   "version": "3.8.12"
  }
 },
 "nbformat": 4,
 "nbformat_minor": 1
}