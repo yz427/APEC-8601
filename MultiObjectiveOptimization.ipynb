{
  "nbformat": 4,
  "nbformat_minor": 0,
  "metadata": {
    "colab": {
      "name": "MultiObjectiveOptimization.ipynb",
      "version": "0.3.2",
      "provenance": [],
      "collapsed_sections": [],
      "toc_visible": true,
      "include_colab_link": true
    },
    "kernelspec": {
      "name": "python3",
      "display_name": "Python 3"
    }
  },
  "cells": [
    {
      "cell_type": "markdown",
      "metadata": {
        "id": "view-in-github",
        "colab_type": "text"
      },
      "source": [
        "<a href=\"https://colab.research.google.com/github/misbahsy/APMonitor-do/blob/master/MultiObjectiveOptimization.ipynb\" target=\"_parent\"><img src=\"https://colab.research.google.com/assets/colab-badge.svg\" alt=\"Open In Colab\"/></a>"
      ]
    },
    {
      "metadata": {
        "id": "FCBtWyq4_9ri",
        "colab_type": "text"
      },
      "cell_type": "markdown",
      "source": [
        "##Multi-Objective Optimization\n",
        "\n",
        "<p class='vspace'>Many optimization problems have multiple competing objectives. These competing objectives are part of the trade-off that defines an optimal solution. Sometimes these competing objectives have separate priorities where one objective should be satisfied <em>before</em> another objective is even considered. This especially arises in model predictive control or other types of dynamic optimization problems. There are competing objectives with a ranked hierarchy. The highest level objectives are satisfied first followed by lower ranked objectives if there are additional degrees of freedom available. The l1-norm objective is a natural way to explicitly rank objectives and simultaneously optimize multiple priorities with a single optimization problem.\n",
        "</p>\n",
        "\n"
      ]
    },
    {
      "metadata": {
        "id": "s0HLJja3oav_",
        "colab_type": "text"
      },
      "cell_type": "markdown",
      "source": [
        "\n",
        "##Exercise\n",
        "<p>Consider examples of safety, environmental, and economic constraints or objectives. Which are most important and why? \n",
        "</p>\n",
        "<p class='vspace'>For the following multi-objective optimization problem, sketch a possible optimal trajectory.\n",
        "</p>\n",
        "<div class='vspace'></div><div><img src='http://apmonitor.com/do/uploads/Main/download.png' alt='' title='' /> <a class='urllink' href='http://apmonitor.com/do/uploads/Main/multi-objective_control.pdf' rel='nofollow'>Multiple Objectives Exercise (pdf)</a></div>\n",
        "<div class='vspace'></div><div><img src='http://apmonitor.com/do/uploads/Main/multi-objective_control.png' alt='' title='' /></div>\n",
        "\n"
      ]
    },
    {
      "metadata": {
        "id": "l9DYjPR0ogLk",
        "colab_type": "text"
      },
      "cell_type": "markdown",
      "source": [
        "\n",
        "##Solution\n",
        "<div><img src='http://apmonitor.com/do/uploads/Main/download.png' alt='' title='' /> <a class='urllink' href='http://apmonitor.com/do/uploads/Main/multi-objective_control.zip' rel='nofollow'>Multi-Objective Model Predictive Control</a></div>\n",
        "<div class='vspace'></div>"
      ]
    },
    {
      "metadata": {
        "id": "48ydWuh9omWp",
        "colab_type": "code",
        "colab": {},
        "cellView": "form"
      },
      "cell_type": "code",
      "source": [
        "#@title Solution with GEKKO\n",
        "\n",
        "try:\n",
        "    from pip import main as pipmain\n",
        "except:\n",
        "    from pip._internal import main as pipmain\n",
        "pipmain(['install','gekko'])\n",
        "\n",
        "from gekko import GEKKO\n",
        "import numpy as np\n",
        "import matplotlib.pyplot as plt\n",
        "\n",
        "m = GEKKO()\n",
        "m.time = np.linspace(0,10,101)\n",
        "\n",
        "# Dynamic control options\n",
        "m.options.IMODE = 6\n",
        "m.options.CV_TYPE = 1\n",
        "m.options.MV_TYPE = 0\n",
        "m.options.SOLVER = 3\n",
        "m.options.MV_STEP_HOR = 1\n",
        "m.options.NODES = 3\n",
        "\n",
        "#Define Manipulated Variables\n",
        "u = m.MV(name='u')\n",
        "\n",
        "#Define Controlled Variables\n",
        "y = m.CV(1,name='y')\n",
        "z = m.CV(1,name='z')\n",
        "s = m.CV(1,name='s')\n",
        "\n",
        "# Environmental Constraint\n",
        "#setup CV\n",
        "# tau is the speed of the CV response, 0=step, 1 = 63.2# of the way\n",
        "#   to the new setpoint in 1 sec, only if tr_init is 1 or 2.\n",
        "# with tr_init=0, it is just a pure dead-band\n",
        "# specifying the speed to get to the set point\n",
        "# get to 63.2# of sp withing tau seconds\n",
        "y.TAU = 5\n",
        "y.STATUS = 1\n",
        "y.TR_INIT = 2\n",
        "y.SPHI = 5\n",
        "y.SPLO = 4\n",
        "y.FSTATUS = 0\n",
        "y.WSPHI = 100\n",
        "y.WSPLO = 100\n",
        "\n",
        "# Operational Constraint\n",
        "z.TAU = 4\n",
        "z.STATUS = 1\n",
        "z.TR_INIT = 2\n",
        "z.SPHI = 7\n",
        "z.SPLO = 6\n",
        "z.FSTATUS = 0\n",
        "z.WSPHI = 50\n",
        "z.WSPLO = 50\n",
        "\n",
        "# Safety Constraint\n",
        "s.TAU = 10\n",
        "s.STATUS = 1\n",
        "s.TR_INIT = 2\n",
        "s.TR_OPEN = 3\n",
        "s.SPHI = 11\n",
        "s.SPLO = 10\n",
        "s.FSTATUS = 0\n",
        "s.WSPHI = 200\n",
        "s.WSPLO = 200\n",
        "\n",
        "#setup MV (u)\n",
        "u.STATUS = 1\n",
        "u.DCOST = 0\n",
        "u.LOWER = 0\n",
        "u.UPPER = 1000\n",
        "u.COST = 0\n",
        "\n",
        "# process model\n",
        "tau = 1\n",
        "K = 3\n",
        "m.Equation(tau*y.dt()+y==u)\n",
        "m.Equation(z==y)\n",
        "m.Equation(s==y)\n",
        "\n",
        "# solve problem\n",
        "m.solve(disp=True)\n",
        "\n",
        "# get additional solution information\n",
        "import json\n",
        "with open(m.path+'//results.json') as f:\n",
        "    results = json.load(f)\n",
        "\n",
        "# create plot\n",
        "p, ax = plt.subplots(nrows=2, ncols=1, \\\n",
        "                     gridspec_kw={'height_ratios':[3,1]})\n",
        "\n",
        "ax[0].plot(m.time,results['s.tr_hi'],'r-.',linewidth=2)\n",
        "ax[0].plot(m.time,results['y.tr_hi'],'b:',linewidth=2)\n",
        "ax[0].plot(m.time,results['z.tr_hi'],'--',color='orange',linewidth=2)\n",
        "ax[0].plot(m.time,results['z'],'k-',linewidth=3)\n",
        "ax[0].legend(['Priority 1: Safety Constraint',\\\n",
        "            'Priority 2: Environmental Constraint',\\\n",
        "            'Priority 3: Economic Constraint','Response'],loc=4)\n",
        "ax[0].plot(m.time,results['z.tr_lo'],'--',color='orange',linewidth=2)\n",
        "ax[0].plot(m.time,results['y.tr_lo'],'b:',linewidth=2)\n",
        "ax[0].plot(m.time,results['s.tr_lo'],'r-.',linewidth=2)\n",
        "ax[0].set_ylabel('Pressure (bar)')\n",
        "\n",
        "ax[1].plot(m.time,u.value,'b-',linewidth=2)\n",
        "ax[1].legend(['Manipulated Variable'])\n",
        "ax[1].set_ylabel('MV')\n",
        "ax[1].set_xlabel('Time (min)')\n",
        "\n",
        "plt.show()\n"
      ],
      "execution_count": 0,
      "outputs": []
    },
    {
      "metadata": {
        "id": "rla9mulo_8gI",
        "colab_type": "code",
        "cellView": "form",
        "outputId": "0f19407e-5fd2-46e9-b37a-584afb8b2491",
        "colab": {
          "base_uri": "https://localhost:8080/",
          "height": 336
        }
      },
      "cell_type": "code",
      "source": [
        "#@title\n",
        "%%html\n",
        "<iframe width=\"560\" height=\"315\" src=\"https://www.youtube.com/embed/JlMVZmGgjDY\" frameborder=\"0\" allowfullscreen></iframe>"
      ],
      "execution_count": 0,
      "outputs": [
        {
          "output_type": "display_data",
          "data": {
            "text/html": [
              "<iframe width=\"560\" height=\"315\" src=\"https://www.youtube.com/embed/JlMVZmGgjDY\" frameborder=\"0\" allowfullscreen></iframe>"
            ],
            "text/plain": [
              "<IPython.core.display.HTML object>"
            ]
          },
          "metadata": {
            "tags": []
          }
        }
      ]
    }
  ]
}