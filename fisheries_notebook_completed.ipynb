{
 "cells": [
  {
   "cell_type": "markdown",
   "metadata": {
    "pycharm": {
     "name": "#%% md\n"
    }
   },
   "source": [
    "# Solving a fisheries optimization in Python\n",
    "\n",
    "This notebook will introduce you both to a classical Optimal Control problem defined for a fishery but also will show you how to use GEKKO, an open-source dynamic optimization toolkit.\n",
    "\n",
    "Unlike if you have taken my big-data course, this will be run primarily through an online, cloud-hosted Docker image. You don't need to know what this means other than to (hopefully) appreciate that the only software you will require is Chrome (or a modern equivilent).\n",
    "\n",
    "## Import required packages\n",
    "\n",
    "These lines will import the packages into python. On the line import numpy as np, the np is just a shortened version of the name that we will assign the package to so we don't have to write out numpy each time. Same for plt."
   ]
  },
  {
   "cell_type": "code",
   "execution_count": 2,
   "metadata": {
    "pycharm": {
     "name": "#%% Imports\n"
    }
   },
   "outputs": [],
   "source": [
    "from gekko import GEKKO\n",
    "import numpy as np\n",
    "import matplotlib.pyplot as plt\n"
   ]
  },
  {
   "cell_type": "markdown",
   "metadata": {
    "pycharm": {
     "name": "#%% md\n"
    }
   },
   "source": [
    "Next we will create the GEKKO model and save it as the variable m. Python is an \"object oriented programming language\". Understanding this fully is outside the domain of this course, but for our purposes here, just know that when we called GEKKO(), it created a big, complex object and saved it in m. We will use this object below to store input parameters and it will also give us the key functions (called \"methods\" when they are attached to an object) we need to run the optimization."
   ]
  },
  {
   "cell_type": "code",
   "execution_count": 3,
   "metadata": {},
   "outputs": [
    {
     "name": "stdout",
     "output_type": "stream",
     "text": [
      "Printing out the object, which will tell us how it wants to be expressed:\n",
      "<gekko.gekko.GEKKO object at 0x000002030B780E50>\n"
     ]
    }
   ],
   "source": [
    "m = GEKKO()\n",
    "print('Printing out the object, which will tell us how it wants to be expressed:')\n",
    "print(m)"
   ]
  },
  {
   "cell_type": "markdown",
   "metadata": {
    "pycharm": {
     "name": "#%% md\n"
    }
   },
   "source": [
    "Now that the object is created, we can set it's attributes, which are denoted via a \"dot\", as in m.attrbute. We will also be setting the key constants for our model (refer to lecture notes)."
   ]
  },
  {
   "cell_type": "code",
   "execution_count": 4,
   "metadata": {
    "pycharm": {
     "name": "#%%\n"
    }
   },
   "outputs": [
    {
     "name": "stdout",
     "output_type": "stream",
     "text": [
      "Time attribute: [ 0.    0.02  0.04  0.06  0.08  0.1   0.12  0.14  0.16  0.18  0.2   0.22\n",
      "  0.24  0.26  0.28  0.3   0.32  0.34  0.36  0.38  0.4   0.42  0.44  0.46\n",
      "  0.48  0.5   0.52  0.54  0.56  0.58  0.6   0.62  0.64  0.66  0.68  0.7\n",
      "  0.72  0.74  0.76  0.78  0.8   0.82  0.84  0.86  0.88  0.9   0.92  0.94\n",
      "  0.96  0.98  1.    1.02  1.04  1.06  1.08  1.1   1.12  1.14  1.16  1.18\n",
      "  1.2   1.22  1.24  1.26  1.28  1.3   1.32  1.34  1.36  1.38  1.4   1.42\n",
      "  1.44  1.46  1.48  1.5   1.52  1.54  1.56  1.58  1.6   1.62  1.64  1.66\n",
      "  1.68  1.7   1.72  1.74  1.76  1.78  1.8   1.82  1.84  1.86  1.88  1.9\n",
      "  1.92  1.94  1.96  1.98  2.    2.02  2.04  2.06  2.08  2.1   2.12  2.14\n",
      "  2.16  2.18  2.2   2.22  2.24  2.26  2.28  2.3   2.32  2.34  2.36  2.38\n",
      "  2.4   2.42  2.44  2.46  2.48  2.5   2.52  2.54  2.56  2.58  2.6   2.62\n",
      "  2.64  2.66  2.68  2.7   2.72  2.74  2.76  2.78  2.8   2.82  2.84  2.86\n",
      "  2.88  2.9   2.92  2.94  2.96  2.98  3.    3.02  3.04  3.06  3.08  3.1\n",
      "  3.12  3.14  3.16  3.18  3.2   3.22  3.24  3.26  3.28  3.3   3.32  3.34\n",
      "  3.36  3.38  3.4   3.42  3.44  3.46  3.48  3.5   3.52  3.54  3.56  3.58\n",
      "  3.6   3.62  3.64  3.66  3.68  3.7   3.72  3.74  3.76  3.78  3.8   3.82\n",
      "  3.84  3.86  3.88  3.9   3.92  3.94  3.96  3.98  4.    4.02  4.04  4.06\n",
      "  4.08  4.1   4.12  4.14  4.16  4.18  4.2   4.22  4.24  4.26  4.28  4.3\n",
      "  4.32  4.34  4.36  4.38  4.4   4.42  4.44  4.46  4.48  4.5   4.52  4.54\n",
      "  4.56  4.58  4.6   4.62  4.64  4.66  4.68  4.7   4.72  4.74  4.76  4.78\n",
      "  4.8   4.82  4.84  4.86  4.88  4.9   4.92  4.94  4.96  4.98  5.    5.02\n",
      "  5.04  5.06  5.08  5.1   5.12  5.14  5.16  5.18  5.2   5.22  5.24  5.26\n",
      "  5.28  5.3   5.32  5.34  5.36  5.38  5.4   5.42  5.44  5.46  5.48  5.5\n",
      "  5.52  5.54  5.56  5.58  5.6   5.62  5.64  5.66  5.68  5.7   5.72  5.74\n",
      "  5.76  5.78  5.8   5.82  5.84  5.86  5.88  5.9   5.92  5.94  5.96  5.98\n",
      "  6.    6.02  6.04  6.06  6.08  6.1   6.12  6.14  6.16  6.18  6.2   6.22\n",
      "  6.24  6.26  6.28  6.3   6.32  6.34  6.36  6.38  6.4   6.42  6.44  6.46\n",
      "  6.48  6.5   6.52  6.54  6.56  6.58  6.6   6.62  6.64  6.66  6.68  6.7\n",
      "  6.72  6.74  6.76  6.78  6.8   6.82  6.84  6.86  6.88  6.9   6.92  6.94\n",
      "  6.96  6.98  7.    7.02  7.04  7.06  7.08  7.1   7.12  7.14  7.16  7.18\n",
      "  7.2   7.22  7.24  7.26  7.28  7.3   7.32  7.34  7.36  7.38  7.4   7.42\n",
      "  7.44  7.46  7.48  7.5   7.52  7.54  7.56  7.58  7.6   7.62  7.64  7.66\n",
      "  7.68  7.7   7.72  7.74  7.76  7.78  7.8   7.82  7.84  7.86  7.88  7.9\n",
      "  7.92  7.94  7.96  7.98  8.    8.02  8.04  8.06  8.08  8.1   8.12  8.14\n",
      "  8.16  8.18  8.2   8.22  8.24  8.26  8.28  8.3   8.32  8.34  8.36  8.38\n",
      "  8.4   8.42  8.44  8.46  8.48  8.5   8.52  8.54  8.56  8.58  8.6   8.62\n",
      "  8.64  8.66  8.68  8.7   8.72  8.74  8.76  8.78  8.8   8.82  8.84  8.86\n",
      "  8.88  8.9   8.92  8.94  8.96  8.98  9.    9.02  9.04  9.06  9.08  9.1\n",
      "  9.12  9.14  9.16  9.18  9.2   9.22  9.24  9.26  9.28  9.3   9.32  9.34\n",
      "  9.36  9.38  9.4   9.42  9.44  9.46  9.48  9.5   9.52  9.54  9.56  9.58\n",
      "  9.6   9.62  9.64  9.66  9.68  9.7   9.72  9.74  9.76  9.78  9.8   9.82\n",
      "  9.84  9.86  9.88  9.9   9.92  9.94  9.96  9.98 10.  ]\n"
     ]
    }
   ],
   "source": [
    "# time points\n",
    "n=501\n",
    "m.time = np.linspace(0,10,n)\n",
    "\n",
    "# constants\n",
    "p = 1 # A price index\n",
    "c = 17.5 # Cost\n",
    "r = 0.71 # Intrinsic growth rate (from logistic function)\n",
    "k = 80.5 # Carrying capacity\n",
    "Y_max = 20 # Maximum effort one could expend\n",
    "q = 1 # An index of fishing \"effort\" per the Shaeffer model design.\n",
    "\n",
    "print('Time attribute: ' + str(m.time))"
   ]
  },
  {
   "cell_type": "markdown",
   "metadata": {},
   "source": [
    "The above variables were constant and so were defined just as python variables. Now, however, we need to create our more complex \"state\" and \"contorl\" variables. GEKKO gives us some functions to create these, such as m.MV(), which is a \"Manipulated Variables\" in GEKKO's terminology but what we have been calling control variable. When creating this u function, we also give it a few input parameters such as the lower-bound and upper-bound.\n",
    "\n",
    "Create the control variable:"
   ]
  },
  {
   "cell_type": "code",
   "execution_count": 5,
   "metadata": {
    "pycharm": {
     "name": "#%%\n"
    }
   },
   "outputs": [],
   "source": [
    "# fishing rate\n",
    "y = m.MV(value=1,lb=0,ub=1)\n",
    "y.STATUS = 1\n",
    "y.DCOST = 0"
   ]
  },
  {
   "cell_type": "markdown",
   "metadata": {},
   "source": [
    "Now we're going to create a GEKKO variable, which is the thing that the solver will be solving to meet the constraints."
   ]
  },
  {
   "cell_type": "code",
   "execution_count": 6,
   "metadata": {
    "pycharm": {
     "name": "#%%\n"
    }
   },
   "outputs": [],
   "source": [
    "# fish population\n",
    "x = m.Var(value=70)"
   ]
  },
  {
   "cell_type": "markdown",
   "metadata": {},
   "source": [
    "Define our equation of motion as a GEKKO Equation. Note that the this expression has both python variables (e.g. the constants from above) and GEKKO variables that will be changing as we solve it.\n",
    "\n",
    "TASK! Define the fish population equation of motion using our notes on the logistic growth curve. Fill in the MISSING_PART with a mathematical representation of the model using the coefficients defined above."
   ]
  },
  {
   "cell_type": "code",
   "execution_count": 7,
   "metadata": {
    "pycharm": {
     "name": "#%%\n"
    }
   },
   "outputs": [
    {
     "data": {
      "text/plain": [
       "<gekko.gekko.EquationObj at 0x2030b75f910>"
      ]
     },
     "execution_count": 7,
     "metadata": {},
     "output_type": "execute_result"
    }
   ],
   "source": [
    "MISSING_PART = None\n",
    "m.Equation(x.dt() == r*x*(1-x/k)-y*Y_max)"
   ]
  },
  {
   "cell_type": "markdown",
   "metadata": {},
   "source": [
    "The objective function itself (profit), is defined as a value J, but then we also will be defining a Final objective, Jf, which we will use in the solution."
   ]
  },
  {
   "cell_type": "code",
   "execution_count": 8,
   "metadata": {
    "pycharm": {
     "name": "#%%\n"
    }
   },
   "outputs": [],
   "source": [
    "# objective (profit)\n",
    "J = m.Var(value=0)\n",
    "# final objective\n",
    "Jf = m.FV()\n",
    "Jf.STATUS = 1"
   ]
  },
  {
   "cell_type": "markdown",
   "metadata": {},
   "source": [
    "In order to connect the different functions, we are going to use the m.Connection method. Here we connect the final objective function to the end position of our objective J.\n",
    "\n",
    "TASK! Like above, fill in the equation for J.dt() by replacing the MISSING_PART with the Schaeffer equation of benefit using the coefficients defined above."
   ]
  },
  {
   "cell_type": "code",
   "execution_count": 9,
   "metadata": {
    "pycharm": {
     "name": "#%%\n"
    }
   },
   "outputs": [],
   "source": [
    "m.Connection(Jf,J,pos2='end')\n",
    "\n",
    "m.Equation(J.dt() == (p-c/(q*x))*y*Y_max)\n",
    "\n",
    "# Also define what exactly we will be Maximizing in the model\n",
    "m.Maximize(Jf)"
   ]
  },
  {
   "cell_type": "markdown",
   "metadata": {},
   "source": [
    "GEKKO has many solution methods which we set below. Notice that here we're telling GEKKO that we want this solved via optimal control methods and that it will use a particular solvew (IPOPT)."
   ]
  },
  {
   "cell_type": "code",
   "execution_count": 10,
   "metadata": {
    "pycharm": {
     "name": "#%%\n"
    }
   },
   "outputs": [],
   "source": [
    "# options\n",
    "m.options.IMODE = 6  # optimal control\n",
    "m.options.NODES = 3  # collocation nodes\n",
    "m.options.SOLVER = 3 # solver (IPOPT)"
   ]
  },
  {
   "cell_type": "markdown",
   "metadata": {},
   "source": [
    "Now, after all this hard work, we can finally call the solve() method from our object."
   ]
  },
  {
   "cell_type": "code",
   "execution_count": 11,
   "metadata": {
    "pycharm": {
     "name": "#%%\n"
    }
   },
   "outputs": [
    {
     "name": "stdout",
     "output_type": "stream",
     "text": [
      "apm 131.212.251.145_gk_model0 <br><pre> ----------------------------------------------------------------\n",
      " APMonitor, Version 1.0.1\n",
      " APMonitor Optimization Suite\n",
      " ----------------------------------------------------------------\n",
      " \n",
      " \n",
      " --------- APM Model Size ------------\n",
      " Each time step contains\n",
      "   Objects      :            0\n",
      "   Constants    :            0\n",
      "   Variables    :            4\n",
      "   Intermediates:            0\n",
      "   Connections  :            1\n",
      "   Equations    :            3\n",
      "   Residuals    :            3\n",
      " \n",
      " Number of state variables:           7000\n",
      " Number of total equations: -         6500\n",
      " Number of slack variables: -            0\n",
      " ---------------------------------------\n",
      " Degrees of freedom       :            500\n",
      " \n",
      " **********************************************\n",
      " Dynamic Control with Interior Point Solver\n",
      " **********************************************\n",
      "  \n",
      "  \n",
      " Info: Exact Hessian\n",
      "\n",
      "******************************************************************************\n",
      "This program contains Ipopt, a library for large-scale nonlinear optimization.\n",
      " Ipopt is released as open source code under the Eclipse Public License (EPL).\n",
      "         For more information visit http://projects.coin-or.org/Ipopt\n",
      "******************************************************************************\n",
      "\n",
      "This is Ipopt version 3.12.10, running with linear solver ma57.\n",
      "\n",
      "Number of nonzeros in equality constraint Jacobian...:    16494\n",
      "Number of nonzeros in inequality constraint Jacobian.:     2000\n",
      "Number of nonzeros in Lagrangian Hessian.............:     2000\n",
      "\n",
      "Total number of variables............................:     7000\n",
      "                     variables with only lower bounds:     1000\n",
      "                variables with lower and upper bounds:     2000\n",
      "                     variables with only upper bounds:        0\n",
      "Total number of equality constraints.................:     5500\n",
      "Total number of inequality constraints...............:     1000\n",
      "        inequality constraints with only lower bounds:     1000\n",
      "   inequality constraints with lower and upper bounds:        0\n",
      "        inequality constraints with only upper bounds:        0\n",
      "\n",
      "iter    objective    inf_pr   inf_du lg(mu)  ||d||  lg(rg) alpha_du alpha_pr  ls\n",
      "   0  0.0000000e+00 1.49e+01 1.00e+00   0.0 0.00e+00    -  0.00e+00 0.00e+00   0\n",
      "   1  1.2403680e+05 2.52e+01 9.53e+01  11.8 7.36e+13    -  4.68e-14 1.68e-12f  1\n",
      "   2 -3.2970793e+04 2.76e+01 2.67e+04  12.4 3.98e+14    -  1.01e-12 3.94e-13f  1\n",
      "   3 -1.4387935e+04 2.77e+01 2.23e+05   6.5 6.59e+04    -  1.05e-03 4.54e-04f  1\n",
      "   4  4.0547887e+04 2.82e+01 1.57e+05  12.4 2.06e+10    -  1.27e-09 2.71e-09f  1\n",
      "   5  3.4974586e+04 2.82e+01 1.66e+05  11.7 4.10e+09    -  3.57e-08 2.96e-08f  1\n",
      "   6  4.0602905e+04 2.82e+01 3.79e+05  11.0 8.18e+08    -  4.75e-07 4.55e-07f  1\n",
      "   7  3.5553728e+04 2.83e+01 3.40e+04  10.3 1.62e+08    -  7.01e-06 7.20e-06f  1\n",
      "   8  4.0525217e+04 2.83e+01 2.06e+06   9.6 3.17e+07    -  1.10e-04 1.05e-04f  1\n",
      "   9  3.5383079e+04 2.82e+01 1.24e+07   8.9 5.92e+06    -  1.76e-03 1.63e-03f  1\n",
      "iter    objective    inf_pr   inf_du lg(mu)  ||d||  lg(rg) alpha_du alpha_pr  ls\n",
      "  10  3.7369705e+04 2.75e+01 1.28e+08   8.2 9.60e+05    -  3.25e-02 2.57e-02f  1\n",
      "  11 -1.7965329e+04 1.65e+01 4.37e+08   7.5 1.02e+05    -  5.55e-01 4.50e-01f  1\n",
      "  12 -7.6750512e+04 3.42e+00 4.37e+06   6.2 1.18e+03    -  9.90e-01 9.90e-01f  1\n",
      "  13 -7.4920810e+04 4.08e-01 6.71e+03   4.2 1.94e+02    -  9.90e-01 9.90e-01h  1\n",
      "  14 -7.4655267e+04 6.17e-03 2.07e+06   2.2 1.05e+02    -  9.90e-01 1.00e+00h  1\n",
      "  15 -7.2793835e+04 1.26e-02 1.09e+12   4.1 5.80e+05    -  9.93e-01 3.99e-02f  2\n",
      "  16 -7.2835627e+04 2.24e-05 1.75e-01   4.2 3.92e+02    -  1.00e+00 1.00e+00f  1\n",
      "  17 -7.2847496e+04 1.98e-07 1.11e+10  -1.8 1.19e-02    -  9.94e-01 1.00e+00f  1\n",
      "  18 -7.4704259e+04 4.80e-03 1.46e-02   0.7 5.76e+00    -  1.00e+00 1.00e+00f  1\n",
      "  19 -1.0719814e+05 1.71e+00 1.76e+06  -0.1 3.25e+01    -  9.95e-01 1.00e+00f  1\n",
      "iter    objective    inf_pr   inf_du lg(mu)  ||d||  lg(rg) alpha_du alpha_pr  ls\n",
      "  20 -1.0898349e+05 1.50e+00 8.71e+00  -1.7 6.76e+00    -  1.00e+00 1.00e+00f  1\n",
      "  21 -1.0633059e+05 1.60e-01 6.67e-01  -0.8 8.57e+02    -  1.00e+00 1.00e+00h  1\n",
      "  22 -1.0676649e+05 2.78e-02 7.86e+04  -1.9 6.00e+01    -  9.95e-01 1.00e+00f  1\n",
      "  23 -1.0687482e+05 1.81e-02 4.88e-02  -2.4 1.80e+02    -  1.00e+00 1.00e+00f  1\n",
      "  24 -1.0689897e+05 4.67e-03 1.00e+02  -3.0 1.33e+02    -  1.00e+00 1.00e+00f  1\n",
      "  25 -1.0690451e+05 2.61e-03 1.45e-02  -3.6 9.63e+01    -  1.00e+00 1.00e+00h  1\n",
      "  26 -1.0690571e+05 1.08e-03 5.09e+01  -4.2 7.32e+01    -  9.97e-01 1.00e+00h  1\n",
      "  27 -1.0690603e+05 2.26e-04 1.12e-03  -5.0 3.28e+01    -  1.00e+00 1.00e+00h  1\n",
      "  28 -1.0690608e+05 3.26e-05 2.25e+00  -6.2 9.97e+00    -  9.98e-01 1.00e+00h  1\n",
      "  29 -1.0690608e+05 3.67e-06 5.93e-02  -7.8 5.00e+00    -  1.00e+00 9.99e-01h  1\n",
      "iter    objective    inf_pr   inf_du lg(mu)  ||d||  lg(rg) alpha_du alpha_pr  ls\n",
      "  30 -1.0690608e+05 2.52e-07 1.43e-06  -9.2 6.14e+00    -  1.00e+00 1.00e+00h  1\n",
      "  31 -1.0690608e+05 3.89e-09 2.22e-08 -11.0 2.38e+00    -  1.00e+00 1.00e+00h  1\n",
      "\n",
      "Number of Iterations....: 31\n",
      "\n",
      "                                   (scaled)                 (unscaled)\n",
      "Objective...............:  -1.0690608335031693e+04   -1.0690608335031693e+05\n",
      "Dual infeasibility......:   2.2159014179123915e-08    2.2159014179123915e-07\n",
      "Constraint violation....:   3.8887346676119705e-09    3.8887346676119705e-09\n",
      "Complementarity.........:   3.5215588058373143e-09    3.5215588058373140e-08\n",
      "Overall NLP error.......:   2.2159014179123915e-08    2.2159014179123915e-07\n",
      "\n",
      "\n",
      "Number of objective function evaluations             = 35\n",
      "Number of objective gradient evaluations             = 32\n",
      "Number of equality constraint evaluations            = 35\n",
      "Number of inequality constraint evaluations          = 35\n",
      "Number of equality constraint Jacobian evaluations   = 32\n",
      "Number of inequality constraint Jacobian evaluations = 32\n",
      "Number of Lagrangian Hessian evaluations             = 31\n",
      "Total CPU secs in IPOPT (w/o function evaluations)   =      0.507\n",
      "Total CPU secs in NLP function evaluations           =      1.852\n",
      "\n",
      "EXIT: Optimal Solution Found.\n",
      " \n",
      " The solution was found.\n",
      " \n",
      " The final value of the objective function is   -106906.083350317     \n",
      " \n",
      " ---------------------------------------------------\n",
      " Solver         :  IPOPT (v3.12)\n",
      " Solution time  :    2.41909999999916      sec\n",
      " Objective      :   -106906.083350317     \n",
      " Successful solution\n",
      " ---------------------------------------------------\n",
      " \n",
      "Optimal Profit: 106.90608335\n"
     ]
    }
   ],
   "source": [
    "# solve optimization problem\n",
    "m.solve()\n",
    "\n",
    "# print profit\n",
    "print('Optimal Profit: ' + str(Jf.value[0]))"
   ]
  },
  {
   "cell_type": "markdown",
   "metadata": {
    "pycharm": {
     "name": "#%% md\n"
    }
   },
   "source": [
    "Now just plot the results!"
   ]
  },
  {
   "cell_type": "code",
   "execution_count": 12,
   "metadata": {
    "pycharm": {
     "name": "#%%\n"
    }
   },
   "outputs": [
    {
     "data": {
      "image/png": "[encoded data removed]",
      "text/plain": [
       "<Figure size 640x480 with 2 Axes>"
      ]
     },
     "metadata": {},
     "output_type": "display_data"
    }
   ],
   "source": [
    "# plot results\n",
    "plt.figure(figsize=(8, 6), dpi=80)\n",
    "\n",
    "plt.subplot(2,1,1)\n",
    "plt.plot(m.time,J.value,'r--',label='profit')\n",
    "plt.plot(m.time[-1],Jf.value[0],'ro',markersize=10,\n",
    "         label='final profit = '+str(Jf.value[0]))\n",
    "plt.plot(m.time,x.value,'b-',label='fish population')\n",
    "plt.ylabel('Value')\n",
    "plt.legend()\n",
    "plt.subplot(2,1,2)\n",
    "plt.plot(m.time,y.value,'k.-',label='fishing rate')\n",
    "plt.ylabel('Rate')\n",
    "plt.xlabel('Time (yr)')\n",
    "plt.legend()\n",
    "plt.show()\n"
   ]
  }
 ],
 "metadata": {
  "kernelspec": {
   "display_name": "Python 3 (ipykernel)",
   "language": "python",
   "name": "python3"
  },
  "language_info": {
   "codemirror_mode": {
    "name": "ipython",
    "version": 3
   },
   "file_extension": ".py",
   "mimetype": "text/x-python",
   "name": "python",
   "nbconvert_exporter": "python",
   "pygments_lexer": "ipython3",
   "version": "3.11.6"
  }
 },
 "nbformat": 4,
 "nbformat_minor": 1
}
