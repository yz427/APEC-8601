{
 "cells": [
  {
   "cell_type": "markdown",
   "metadata": {},
   "source": [
    "# Use an included scenario\n",
    "\n",
    "Also, use this opportunity to show how VS Code can help you understand code. Use F12 to navigate into a function or object."
   ]
  },
  {
   "cell_type": "code",
   "execution_count": null,
   "metadata": {},
   "outputs": [],
   "source": [
    "from pymagicc.scenarios import rcp26\n",
    "\n",
    "rcp26.head()"
   ]
  },
  {
   "cell_type": "markdown",
   "metadata": {},
   "source": [
    "# Read a MAGICC scenario file\n",
    "\n",
    "Here's the MAGICC Folder\n",
    "\n",
    "![](images/2024-02-14-12-59-08.png)\n",
    "\n",
    "Another way to get here is by pressing F12 with your cursor on the world `pymagicc` in `from pymagicc.scenarios import rcp26` above. Once there, you can even right-click on the file tab and select Reveal in File Explorer to see the file in your file system."
   ]
  },
  {
   "cell_type": "code",
   "execution_count": null,
   "metadata": {},
   "outputs": [],
   "source": [
    "from pymagicc.scenarios import read_scen_file\n",
    "scenario_path = \"C:/Users/jajohns/mambaforge/envs/env2023a/Lib/site-packages/pymagicc/MAGICC6/run/RCP60.SCEN\"\n",
    "scenario = read_scen_file(scenario_path)\n",
    "\n",
    "scenario.head()"
   ]
  },
  {
   "cell_type": "markdown",
   "metadata": {},
   "source": [
    "# Run the model for that specific scenario"
   ]
  },
  {
   "cell_type": "code",
   "execution_count": null,
   "metadata": {},
   "outputs": [],
   "source": [
    "import pymagicc\n",
    "from pymagicc.scenarios import read_scen_file\n",
    "\n",
    "\n",
    "\n",
    "scenario = read_scen_file(scenario_path)\n",
    "\n",
    "results = pymagicc.run(scenario)\n",
    "\n",
    "temperature_rel_to_1850_1900 = (\n",
    "    results\n",
    "    .filter(variable=\"Surface Temperature\")\n",
    "    .relative_to_ref_period_mean(year=range(1850, 1900 + 1))\n",
    ")"
   ]
  },
  {
   "cell_type": "markdown",
   "metadata": {},
   "source": [
    "# Plot things"
   ]
  },
  {
   "cell_type": "code",
   "execution_count": null,
   "metadata": {},
   "outputs": [],
   "source": [
    "import matplotlib.pyplot as plt\n",
    "\n",
    "temperature_rel_to_1850_1900.lineplot()\n",
    "plt.title(\"Global Mean Temperature Projection\")\n",
    "plt.ylabel(\"°C over pre-industrial (1850-1900 mean)\");\n",
    "# Run `plt.show()` to display the plot when running this example\n",
    "# interactively or add `%matplotlib inline` on top when in a Jupyter Notebook.\n",
    "\n",
    "plt.show()"
   ]
  },
  {
   "cell_type": "markdown",
   "metadata": {},
   "source": [
    "# In-Class exercise\n",
    "\n",
    "Run the model for the 4 main RCPs. Plot the temperature of each pathway on the same graph."
   ]
  },
  {
   "cell_type": "code",
   "execution_count": null,
   "metadata": {},
   "outputs": [],
   "source": [
    "# STARTER CODE - INCOMPLETE\n",
    "\n",
    "import matplotlib.pyplot as plt\n",
    "\n",
    "import pymagicc\n",
    "import scmdata\n",
    "from pymagicc import rcps\n",
    "\n",
    "results = []\n",
    "for scen in rcps.groupby(\"scenario\"):\n",
    "    results_scen = pymagicc.run(scen)\n",
    "    results.append(results_scen)\n",
    "\n",
    "results = scmdata.run_append(results)\n",
    "\n",
    "temperature_rel_to_1850_1900 = (\n",
    "    results\n",
    "    .filter(variable=\"Surface Temperature\", region=\"World\")\n",
    "    .relative_to_ref_period_mean(year=range(1850, 1900 + 1))\n",
    ")\n",
    "\n",
    "temperature_rel_to_1850_1900.lineplot()\n",
    "plt.title(\"Global Mean Temperature Projection\")\n",
    "plt.ylabel(\"°C over pre-industrial (1850-1900 mean)\");\n",
    "# Run `plt.show()` to display the plot when running this example\n",
    "# interactively or add `%matplotlib inline` on top when in a Jupyter Notebook."
   ]
  }
 ],
 "metadata": {
  "kernelspec": {
   "display_name": "env2023a",
   "language": "python",
   "name": "python3"
  },
  "language_info": {
   "codemirror_mode": {
    "name": "ipython",
    "version": 3
   },
   "file_extension": ".py",
   "mimetype": "text/x-python",
   "name": "python",
   "nbconvert_exporter": "python",
   "pygments_lexer": "ipython3",
   "version": "3.11.6"
  }
 },
 "nbformat": 4,
 "nbformat_minor": 2
}
