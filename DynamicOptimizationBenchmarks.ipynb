{
  "nbformat": 4,
  "nbformat_minor": 0,
  "metadata": {
    "colab": {
      "name": "DynamicOptimizationBenchmarks.ipynb",
      "version": "0.3.2",
      "provenance": [],
      "collapsed_sections": [],
      "toc_visible": true,
      "include_colab_link": true
    },
    "kernelspec": {
      "name": "python3",
      "display_name": "Python 3"
    }
  },
  "cells": [
    {
      "cell_type": "markdown",
      "metadata": {
        "id": "view-in-github",
        "colab_type": "text"
      },
      "source": [
        "<a href=\"https://colab.research.google.com/github/misbahsy/APMonitor-do/blob/master/DynamicOptimizationBenchmarks.ipynb\" target=\"_parent\"><img src=\"https://colab.research.google.com/assets/colab-badge.svg\" alt=\"Open In Colab\"/></a>"
      ]
    },
    {
      "metadata": {
        "id": "eCP1s9LGf6eg",
        "colab_type": "text"
      },
      "cell_type": "markdown",
      "source": [
        "#Optimal Control Problems\n",
        "\n"
      ]
    },
    {
      "metadata": {
        "id": "9IQTFrLdipTB",
        "colab_type": "text"
      },
      "cell_type": "markdown",
      "source": [
        "##Exercise\n",
        "<p><strong>Objective:</strong> Set up and solve <strong>three</strong> of the five <a class='urllink' href='http://apmonitor.com/do/uploads/Main/Dynamic_Optimization_Benchmarks.pdf' rel='nofollow'>dynamic optimization benchmark problems</a><sup>2</sup>. Create a program to optimize and display the results. <em>Estimated Time (each): 30 minutes</em>\n",
        "</p>\n",
        "<div class='vspace'></div><hr />\n",
        "<div class='vspace'></div>\n"
      ]
    },
    {
      "metadata": {
        "id": "YADAkJ0cDX4x",
        "colab_type": "text"
      },
      "cell_type": "markdown",
      "source": [
        "##Example 1a\n",
        "<ul><li>Nonlinear, unconstrained, minimize final state\n",
        "</li></ul><p class='vspace'>$$\\min_{u(t)} x_2 \\left( t_f \\right)$$\n",
        "$$\\mathrm{subject \\; to}$$\n",
        "$$\\frac{dx_1}{dt}=u$$\n",
        "$$\\frac{dx_2}{dt}=x_1^2 + u^2$$\n",
        "$$x(0) = [1 \\; 0]^T$$\n",
        "$$t_f=1$$\n",
        "</p>\n",
        "\n",
        "<div class='vspace'></div>\n",
        "\n",
        "##Example 1b\n",
        "<ul><li>Nonlinear, unconstrained, minimize final state with terminal constraint\n",
        "</li></ul><p class='vspace'>$$\\min_{u(t)} x_2 \\left( t_f \\right)$$\n",
        "$$\\mathrm{subject \\; to}$$\n",
        "$$\\frac{dx_1}{dt}=u$$\n",
        "$$\\frac{dx_2}{dt}=x_1^2 + u^2$$\n",
        "$$x(0) = [1 \\; 0]^T$$\n",
        "$$x_1 \\left( t_f \\right)=1$$\n",
        "$$t_f=1$$\n",
        "</p>\n",
        "<div class='vspace'></div><h4>Solutions to Benchmarks 1a and 1b</h4>\n",
        "<div><img src='http://apmonitor.com/do/uploads/Main/download.png' alt='' title='' /> <a class='urllink' href='http://apmonitor.com/do/uploads/Main/dynamic_optimization_benchmark1.zip' rel='nofollow'>Dynamic Optimization Benchmark 1a and 1b in MATLAB and Python</a></div>\n"
      ]
    },
    {
      "metadata": {
        "id": "WXswHisqf9Ie",
        "colab_type": "code",
        "cellView": "form",
        "outputId": "ea83902c-4b35-40dc-c613-06a4e75fba5f",
        "colab": {
          "base_uri": "https://localhost:8080/",
          "height": 336
        }
      },
      "cell_type": "code",
      "source": [
        "#@title\n",
        "%%html\n",
        "<iframe width=\"560\" height=\"315\" src=\"https://www.youtube.com/embed/mmCFF3-6sGg\" frameborder=\"0\" allowfullscreen></iframe>"
      ],
      "execution_count": 0,
      "outputs": [
        {
          "output_type": "display_data",
          "data": {
            "text/html": [
              "<iframe width=\"560\" height=\"315\" src=\"https://www.youtube.com/embed/mmCFF3-6sGg\" frameborder=\"0\" allowfullscreen></iframe>"
            ],
            "text/plain": [
              "<IPython.core.display.HTML object>"
            ]
          },
          "metadata": {
            "tags": []
          }
        }
      ]
    },
    {
      "metadata": {
        "id": "fn-9G2MJgbZ9",
        "colab_type": "code",
        "cellView": "form",
        "colab": {}
      },
      "cell_type": "code",
      "source": [
        "#@markdown ###Solution for 1a using GEKKO\n",
        "\n",
        "try:\n",
        "    from pip import main as pipmain\n",
        "except:\n",
        "    from pip._internal import main as pipmain\n",
        "pipmain(['install','gekko'])\n",
        "\n",
        "import numpy as np\n",
        "import matplotlib.pyplot as plt\n",
        "from gekko import GEKKO\n",
        "\n",
        "m = GEKKO()\n",
        "\n",
        "nt = 101\n",
        "m.time = np.linspace(0,1,nt)\n",
        "\n",
        "# Variables\n",
        "x1 = m.Var(value=1)\n",
        "x2 = m.Var(value=0)\n",
        "u = m.Var(value=-0.75)\n",
        "\n",
        "p = np.zeros(nt)\n",
        "p[-1] = 1.0\n",
        "final = m.Param(value=p)\n",
        "\n",
        "# Equations\n",
        "m.Equation(x1.dt()==u)\n",
        "m.Equation(x2.dt()==x1**2 + u**2)\n",
        "\n",
        "# Objective Function\n",
        "m.Obj(x2*final)\n",
        "\n",
        "m.options.IMODE = 6\n",
        "m.solve()\n",
        "\n",
        "plt.figure(1)\n",
        "plt.plot(m.time,x1.value,'k:',LineWidth=2,label=r'$x_1$')\n",
        "plt.plot(m.time,x2.value,'b-',LineWidth=2,label=r'$x_2$')\n",
        "plt.plot(m.time,u.value,'r--',LineWidth=2,label=r'$u$')\n",
        "plt.legend(loc='best')\n",
        "plt.xlabel('Time')\n",
        "plt.ylabel('Value')\n",
        "plt.show()"
      ],
      "execution_count": 0,
      "outputs": []
    },
    {
      "metadata": {
        "id": "1olaKpgrg3X9",
        "colab_type": "code",
        "cellView": "form",
        "colab": {}
      },
      "cell_type": "code",
      "source": [
        "#@markdown ###Solution for 1b using GEKKO\n",
        "\n",
        "import numpy as np\n",
        "import matplotlib.pyplot as plt\n",
        "from gekko import GEKKO\n",
        "\n",
        "m = GEKKO()\n",
        "\n",
        "nt = 101\n",
        "m.time = np.linspace(0,1,nt)\n",
        "\n",
        "# Variables\n",
        "x1 = m.Var(value=1)\n",
        "x2 = m.Var(value=0)\n",
        "u = m.Var(value=-0.48)\n",
        "\n",
        "p = np.zeros(nt)\n",
        "p[-1] = 1.0\n",
        "final = m.Param(value=p)\n",
        "\n",
        "# Equations\n",
        "m.Equation(x1.dt()==u)\n",
        "m.Equation(x2.dt()==x1**2 + u**2)\n",
        "m.Equation(final*(x1-1)==0)\n",
        "\n",
        "# Objective Function\n",
        "m.Obj(x2*final)\n",
        "\n",
        "m.options.IMODE = 6\n",
        "m.solve()\n",
        "\n",
        "plt.figure(1)\n",
        "plt.plot(m.time,x1.value,'k:',LineWidth=2,label=r'$x_1$')\n",
        "plt.plot(m.time,x2.value,'b-',LineWidth=2,label=r'$x_2$')\n",
        "plt.plot(m.time,u.value,'r--',LineWidth=2,label=r'$u$')\n",
        "plt.legend(loc='best')\n",
        "plt.xlabel('Time')\n",
        "plt.ylabel('Value')\n",
        "plt.show()"
      ],
      "execution_count": 0,
      "outputs": []
    },
    {
      "metadata": {
        "id": "4sSOXK-AhFSW",
        "colab_type": "code",
        "cellView": "form",
        "outputId": "37a3b75e-81e1-4c0c-bfeb-96437beb2814",
        "colab": {
          "base_uri": "https://localhost:8080/",
          "height": 336
        }
      },
      "cell_type": "code",
      "source": [
        "#@title\n",
        "%%html\n",
        "<iframe width=\"560\" height=\"315\" src=\"https://www.youtube.com/embed/WHnIfKUfjQY\" frameborder=\"0\" allow=\"autoplay; encrypted-media\" allowfullscreen></iframe>\n"
      ],
      "execution_count": 0,
      "outputs": [
        {
          "output_type": "display_data",
          "data": {
            "text/html": [
              "<iframe width=\"560\" height=\"315\" src=\"https://www.youtube.com/embed/WHnIfKUfjQY\" frameborder=\"0\" allow=\"autoplay; encrypted-media\" allowfullscreen></iframe>"
            ],
            "text/plain": [
              "<IPython.core.display.HTML object>"
            ]
          },
          "metadata": {
            "tags": []
          }
        }
      ]
    },
    {
      "metadata": {
        "id": "ueQdE2QBhmnL",
        "colab_type": "text"
      },
      "cell_type": "markdown",
      "source": [
        "##Example 2\n",
        "<ul><li>Nonlinear, constrained, minimize final state\n",
        "</li></ul><p class='vspace'>$$\\min_{u(t)} x_4 \\left( t_f \\right)$$\n",
        "$$\\mathrm{subject \\; to}$$\n",
        "$$\\frac{dx_1}{dt}=x_2$$\n",
        "$$\\frac{dx_2}{dt}=-x_3 \\, u + 16 \\, t - 8$$\n",
        "$$\\frac{dx_3}{dt}=u$$\n",
        "$$\\frac{dx_4}{dt}=x_1^2+x_2^2+0.0005 \\left(x_2 + 16 \\, t -8 -0.1x_3\\,u^2\\right)^2$$\n",
        "$$x(0) = [0 \\; -1 \\; -\\sqrt{5} \\; 0]^T$$\n",
        "$$-4 \\le u \\le 10$$\n",
        "$$t_f=1$$\n",
        "</p>\n",
        "<div class='vspace'></div><h4>Solution to Benchmark 2</h4>\n",
        "<div><img src='http://apmonitor.com/do/uploads/Main/download.png' alt='' title='' /> <a class='urllink' href='http://apmonitor.com/do/uploads/Main/dynamic_optimization_benchmark2.zip' rel='nofollow'>Dynamic Optimization Benchmark 2 in MATLAB and Python</a></div>"
      ]
    },
    {
      "metadata": {
        "id": "jiO214WjhcDp",
        "colab_type": "code",
        "cellView": "form",
        "outputId": "d7834b9a-7e1f-4dd0-e883-0a0fa6afce3e",
        "colab": {
          "base_uri": "https://localhost:8080/",
          "height": 336
        }
      },
      "cell_type": "code",
      "source": [
        "#@title\n",
        "%%html\n",
        "<iframe width=\"560\" height=\"315\" src=\"https://www.youtube.com/embed/JP2rH7IPYvc\" frameborder=\"0\" allowfullscreen></iframe>\n"
      ],
      "execution_count": 0,
      "outputs": [
        {
          "output_type": "display_data",
          "data": {
            "text/html": [
              "<iframe width=\"560\" height=\"315\" src=\"https://www.youtube.com/embed/JP2rH7IPYvc\" frameborder=\"0\" allowfullscreen></iframe>"
            ],
            "text/plain": [
              "<IPython.core.display.HTML object>"
            ]
          },
          "metadata": {
            "tags": []
          }
        }
      ]
    },
    {
      "metadata": {
        "id": "WpERlCvOjsA0",
        "colab_type": "code",
        "cellView": "form",
        "colab": {}
      },
      "cell_type": "code",
      "source": [
        "#@markdown ##Solution for 2 using GEKKO\n",
        "import numpy as np\n",
        "import matplotlib.pyplot as plt\n",
        "from gekko import GEKKO\n",
        "\n",
        "m = GEKKO()\n",
        "\n",
        "nt = 101\n",
        "m.time = np.linspace(0,1,nt)\n",
        "\n",
        "# Parameters\n",
        "u = m.MV(value=9,lb=-4,ub=10)\n",
        "u.STATUS = 1\n",
        "u.DCOST = 0\n",
        "\n",
        "# Variables\n",
        "t = m.Var(value=0)\n",
        "x1 = m.Var(value=0)\n",
        "x2 = m.Var(value=-1)\n",
        "x3 = m.Var(value=-np.sqrt(5))\n",
        "x4 = m.Var(value=0)\n",
        "\n",
        "p = np.zeros(nt)\n",
        "p[-1] = 1.0\n",
        "final = m.Param(value=p)\n",
        "\n",
        "# Equations\n",
        "m.Equation(t.dt()==1)\n",
        "m.Equation(x1.dt()==x2)\n",
        "m.Equation(x2.dt()==-x3*u+16*t-8)\n",
        "m.Equation(x3.dt()==u)\n",
        "m.Equation(x4.dt()==x1**2+x2**2 \\\n",
        "           +0.005*(x2+16*t-8-0.1*x3*(u**2))**2)\n",
        "\n",
        "# Objective Function\n",
        "m.Obj(x4*final)\n",
        "\n",
        "m.options.IMODE = 6\n",
        "m.options.NODES = 4\n",
        "m.options.MV_TYPE = 1\n",
        "m.options.SOLVER = 3\n",
        "m.solve()\n",
        "\n",
        "print(m.path)\n",
        "\n",
        "print('Objective = min x4(tf): ' + str(x4[-1]))\n",
        "\n",
        "plt.figure(1)\n",
        "plt.subplot(2,1,1)\n",
        "plt.plot(m.time,u,'r-',LineWidth=2,label=r'$u$')\n",
        "plt.legend(loc='best')\n",
        "plt.subplot(2,1,2)\n",
        "plt.plot(m.time,x1.value,'r--',LineWidth=2,label=r'$x_1$')\n",
        "plt.plot(m.time,x2.value,'g:',LineWidth=2,label=r'$x_2$')\n",
        "plt.plot(m.time,x3.value,'k-',LineWidth=2,label=r'$x_3$')\n",
        "plt.plot(m.time,x4.value,'b-',LineWidth=2,label=r'$x_4$')\n",
        "plt.legend(loc='best')\n",
        "plt.xlabel('Time')\n",
        "plt.ylabel('Value')\n",
        "plt.show()"
      ],
      "execution_count": 0,
      "outputs": []
    },
    {
      "metadata": {
        "id": "FCfCV7PBj4Os",
        "colab_type": "code",
        "cellView": "form",
        "outputId": "b9f933cc-6957-4a45-ada4-83bafc90c5d9",
        "colab": {
          "base_uri": "https://localhost:8080/",
          "height": 336
        }
      },
      "cell_type": "code",
      "source": [
        "#@title\n",
        "%%html\n",
        "<iframe width=\"560\" height=\"315\" src=\"https://www.youtube.com/embed/dxC__nDnmCY\" frameborder=\"0\" allow=\"autoplay; encrypted-media\" allowfullscreen></iframe>\n"
      ],
      "execution_count": 0,
      "outputs": [
        {
          "output_type": "display_data",
          "data": {
            "text/html": [
              "<iframe width=\"560\" height=\"315\" src=\"https://www.youtube.com/embed/dxC__nDnmCY\" frameborder=\"0\" allow=\"autoplay; encrypted-media\" allowfullscreen></iframe>"
            ],
            "text/plain": [
              "<IPython.core.display.HTML object>"
            ]
          },
          "metadata": {
            "tags": []
          }
        }
      ]
    },
    {
      "metadata": {
        "id": "F9kCTIuzkYwI",
        "colab_type": "text"
      },
      "cell_type": "markdown",
      "source": [
        "##Example 3\n",
        "<ul><li>Tubular reactor with parallel reaction \n",
        "</li></ul><p class='vspace'>$$\\max_{u(t)} x_2 \\left( t_f \\right)$$\n",
        "$$\\mathrm{subject \\; to}$$\n",
        "$$\\frac{dx_1}{dt}=-\\left(u+0.5u^2\\right) x_1$$\n",
        "$$\\frac{dx_2}{dt}=u \\, x_1$$\n",
        "$$x(0) = [1 \\; 0]^T$$\n",
        "$$0 \\le u \\le 5$$\n",
        "$$t_f=1$$\n",
        "</p>\n",
        "<div class='vspace'></div><h4>Solution to Benchmark 3</h4>\n",
        "<div><img src='http://apmonitor.com/do/uploads/Main/download.png' alt='' title='' /> <a class='urllink' href='http://apmonitor.com/do/uploads/Main/dynamic_optimization_benchmark3.zip' rel='nofollow'>Dynamic Optimization Benchmark 3 in MATLAB and Python</a></div>\n",
        "<div class='vspace'></div>"
      ]
    },
    {
      "metadata": {
        "id": "l1NzYlWTkRmV",
        "colab_type": "code",
        "cellView": "form",
        "outputId": "fd37e3b0-b669-4ea8-d696-fb5e20c04cf6",
        "colab": {
          "base_uri": "https://localhost:8080/",
          "height": 336
        }
      },
      "cell_type": "code",
      "source": [
        "#@title\n",
        "%%html\n",
        "<iframe width=\"560\" height=\"315\" src=\"https://www.youtube.com/embed/sYBE3-PVS9g\" frameborder=\"0\" allowfullscreen></iframe>\n"
      ],
      "execution_count": 0,
      "outputs": [
        {
          "output_type": "display_data",
          "data": {
            "text/html": [
              "<iframe width=\"560\" height=\"315\" src=\"https://www.youtube.com/embed/sYBE3-PVS9g\" frameborder=\"0\" allowfullscreen></iframe>"
            ],
            "text/plain": [
              "<IPython.core.display.HTML object>"
            ]
          },
          "metadata": {
            "tags": []
          }
        }
      ]
    },
    {
      "metadata": {
        "id": "Pow-23MFkiPN",
        "colab_type": "code",
        "cellView": "form",
        "colab": {}
      },
      "cell_type": "code",
      "source": [
        "#@markdown ##Solution to 3 using GEKKO\n",
        "import numpy as np\n",
        "import matplotlib.pyplot as plt\n",
        "from gekko import GEKKO\n",
        "\n",
        "m = GEKKO()\n",
        "\n",
        "nt = 101\n",
        "m.time = np.linspace(0,1,nt)\n",
        "\n",
        "# Parameters\n",
        "u = m.MV(value=1,ub=5,lb=0)\n",
        "u.STATUS = 1\n",
        "\n",
        "# Variables\n",
        "x1 = m.Var(value=1)\n",
        "x2 = m.Var(value=0)\n",
        "\n",
        "p = np.zeros(nt)\n",
        "p[-1] = 1.0\n",
        "final = m.Param(value=p)\n",
        "\n",
        "# Equations\n",
        "m.Equation(x1.dt()==-(u+0.5*u**2)*x1)\n",
        "m.Equation(x2.dt()==u*x1)\n",
        "\n",
        "# Objective Function\n",
        "m.Obj(-x2*final)\n",
        "\n",
        "m.options.IMODE = 6\n",
        "m.solve()\n",
        "\n",
        "print('Objective: ' + str(x2[-1]))\n",
        "\n",
        "plt.figure(1)\n",
        "plt.plot(m.time,x1.value,'k:',LineWidth=2,label=r'$x_1$')\n",
        "plt.plot(m.time,x2.value,'b-',LineWidth=2,label=r'$x_2$')\n",
        "plt.plot(m.time,u.value,'r--',LineWidth=2,label=r'$u$')\n",
        "plt.legend(loc='best')\n",
        "plt.xlabel('Time')\n",
        "plt.ylabel('Value')\n",
        "plt.show()"
      ],
      "execution_count": 0,
      "outputs": []
    },
    {
      "metadata": {
        "id": "ADiBhovpksJU",
        "colab_type": "code",
        "cellView": "form",
        "outputId": "6c135393-7fd9-4984-ae50-1e6d246670c4",
        "colab": {
          "base_uri": "https://localhost:8080/",
          "height": 336
        }
      },
      "cell_type": "code",
      "source": [
        "#@title\n",
        "%%html\n",
        "<iframe width=\"560\" height=\"315\" src=\"https://www.youtube.com/embed/mdefRrGarP0\" frameborder=\"0\" allow=\"autoplay; encrypted-media\" allowfullscreen></iframe>\n"
      ],
      "execution_count": 0,
      "outputs": [
        {
          "output_type": "display_data",
          "data": {
            "text/html": [
              "<iframe width=\"560\" height=\"315\" src=\"https://www.youtube.com/embed/mdefRrGarP0\" frameborder=\"0\" allow=\"autoplay; encrypted-media\" allowfullscreen></iframe>"
            ],
            "text/plain": [
              "<IPython.core.display.HTML object>"
            ]
          },
          "metadata": {
            "tags": []
          }
        }
      ]
    },
    {
      "metadata": {
        "id": "0kFqBG90k58z",
        "colab_type": "text"
      },
      "cell_type": "markdown",
      "source": [
        "##Example 4</h4>\n",
        "<ul><li>Batch reactor with consecutive reactions A-&gt;B-&gt;C \n",
        "</li></ul><p class='vspace'>$$\\max_{T(t)} x_2 \\left( t_f \\right)$$\n",
        "$$\\mathrm{subject \\; to}$$\n",
        "$$\\frac{dx_1}{dt}=-k_1 \\, x_1^2$$\n",
        "$$\\frac{dx_2}{dt}=k_1 \\, x_1^2 - k_2 \\, x_2$$\n",
        "$$k_1 = 4000 \\, \\exp{\\left(-\\frac{2500}{T}\\right)}$$\n",
        "$$k_2 = 6.2e5 \\, \\exp{\\left(-\\frac{5000}{T}\\right)}$$\n",
        "$$x(0) = [1 \\; 0]^T$$\n",
        "$$298 \\le T \\le 398$$\n",
        "$$t_f=1$$\n",
        "</p>\n",
        "<div class='vspace'></div><h4>Solution to Benchmark 4</h4>\n",
        "<div><img src='http://apmonitor.com/do/uploads/Main/download.png' alt='' title='' /> <a class='urllink' href='http://apmonitor.com/do/uploads/Main/dynamic_optimization_benchmark4.zip' rel='nofollow'>Dynamic Optimization Benchmark 4 in MATLAB and Python</a></div>"
      ]
    },
    {
      "metadata": {
        "id": "FVCwYZR8k0hc",
        "colab_type": "code",
        "cellView": "form",
        "outputId": "f52d338a-7808-43fa-b7bd-e9199379f67f",
        "colab": {
          "base_uri": "https://localhost:8080/",
          "height": 336
        }
      },
      "cell_type": "code",
      "source": [
        "#@title\n",
        "%%html\n",
        "<iframe width=\"560\" height=\"315\" src=\"https://www.youtube.com/embed/yFprG0iJQUE\" frameborder=\"0\" allowfullscreen></iframe>\n"
      ],
      "execution_count": 0,
      "outputs": [
        {
          "output_type": "display_data",
          "data": {
            "text/html": [
              "<iframe width=\"560\" height=\"315\" src=\"https://www.youtube.com/embed/yFprG0iJQUE\" frameborder=\"0\" allowfullscreen></iframe>"
            ],
            "text/plain": [
              "<IPython.core.display.HTML object>"
            ]
          },
          "metadata": {
            "tags": []
          }
        }
      ]
    },
    {
      "metadata": {
        "id": "xdcKw0NflCpt",
        "colab_type": "code",
        "cellView": "form",
        "colab": {}
      },
      "cell_type": "code",
      "source": [
        "#@markdown ##Solution to 4 using GEKKO\n",
        "import numpy as np\n",
        "import matplotlib.pyplot as plt\n",
        "from gekko import GEKKO\n",
        "\n",
        "m = GEKKO()\n",
        "\n",
        "nt = 101\n",
        "m.time = np.linspace(0,1,nt)\n",
        "\n",
        "# Parameters\n",
        "T = m.MV(value=362,ub=398,lb=298)\n",
        "T.STATUS = 1\n",
        "T.DCOST = 0\n",
        "\n",
        "# Variables\n",
        "x1 = m.Var(value=1)\n",
        "x2 = m.Var(value=0)\n",
        "\n",
        "p = np.zeros(nt)\n",
        "p[-1] = 1.0\n",
        "final = m.Param(value=p)\n",
        "\n",
        "# Intermediates\n",
        "k1 = m.Intermediate(4000*m.exp(-2500/T))\n",
        "k2 = m.Intermediate(6.2e5*m.exp(-5000/T))\n",
        "\n",
        "# Equations\n",
        "m.Equation(x1.dt()==-k1*x1**2)\n",
        "m.Equation(x2.dt()==k1*x1**2 - k2*x2)\n",
        "\n",
        "# Objective Function\n",
        "m.Obj(-x2*final)\n",
        "\n",
        "m.options.IMODE = 6\n",
        "m.solve()\n",
        "\n",
        "print('Objective: ' + str(x2[-1]))\n",
        "\n",
        "plt.figure(1)\n",
        "\n",
        "plt.subplot(2,1,1)\n",
        "plt.plot(m.time,x1.value,'k:',LineWidth=2,label=r'$x_1$')\n",
        "plt.plot(m.time,x2.value,'b-',LineWidth=2,label=r'$x_2$')\n",
        "plt.ylabel('Value')\n",
        "plt.legend(loc='best')\n",
        "\n",
        "plt.subplot(2,1,2)\n",
        "plt.plot(m.time,T.value,'r--',LineWidth=2,label=r'$T$')\n",
        "plt.legend(loc='best')\n",
        "plt.xlabel('Time')\n",
        "plt.ylabel('Value')\n",
        "\n",
        "plt.show()"
      ],
      "execution_count": 0,
      "outputs": []
    },
    {
      "metadata": {
        "id": "hC8AZa3LlPKl",
        "colab_type": "code",
        "cellView": "form",
        "outputId": "a5bd8de9-e373-41c8-b08a-406ce9a10436",
        "colab": {
          "base_uri": "https://localhost:8080/",
          "height": 336
        }
      },
      "cell_type": "code",
      "source": [
        "#@title\n",
        "%%html\n",
        "<iframe width=\"560\" height=\"315\" src=\"https://www.youtube.com/embed/gptRJ5x7Ybs\" frameborder=\"0\" allow=\"autoplay; encrypted-media\" allowfullscreen></iframe>\n"
      ],
      "execution_count": 0,
      "outputs": [
        {
          "output_type": "display_data",
          "data": {
            "text/html": [
              "<iframe width=\"560\" height=\"315\" src=\"https://www.youtube.com/embed/gptRJ5x7Ybs\" frameborder=\"0\" allow=\"autoplay; encrypted-media\" allowfullscreen></iframe>"
            ],
            "text/plain": [
              "<IPython.core.display.HTML object>"
            ]
          },
          "metadata": {
            "tags": []
          }
        }
      ]
    },
    {
      "metadata": {
        "id": "kIL9JUgmmCG8",
        "colab_type": "text"
      },
      "cell_type": "markdown",
      "source": [
        "##Example 5\n",
        "<ul><li>Catalytic reactor with A&lt;-&gt;B-&gt;C\n",
        "</li></ul><p class='vspace'>$$\\max_{u(t)} \\left(1 - x_1 \\left( t_f \\right) - x_2 \\left( t_f \\right) \\right)$$\n",
        "$$\\mathrm{subject \\; to}$$\n",
        "$$\\frac{dx_1}{dt}=u \\left(10 \\, x_2 - x_1 \\right)$$\n",
        "$$\\frac{dx_2}{dt}=-u \\left(10 \\, x_2 - x_1 \\right)-\\left(1-u\\right) x_2$$\n",
        "$$x(0) = [1 \\; 0]^T$$\n",
        "$$0 \\le u \\le 1$$\n",
        "$$t_f=12$$\n",
        "</p>\n",
        "<div class='vspace'></div><h4>Solution to Benchmark 5</h4>\n",
        "<div><img src='http://apmonitor.com/do/uploads/Main/download.png' alt='' title='' /> <a class='urllink' href='http://apmonitor.com/do/uploads/Main/dynamic_optimization_benchmark5.zip' rel='nofollow'>Dynamic Optimization Benchmark 5 in MATLAB and Python</a></div>"
      ]
    },
    {
      "metadata": {
        "id": "neE2PSxXl-H1",
        "colab_type": "code",
        "cellView": "form",
        "outputId": "9ac74112-033e-4d12-df57-09e428d59af1",
        "colab": {
          "base_uri": "https://localhost:8080/",
          "height": 336
        }
      },
      "cell_type": "code",
      "source": [
        "#@title\n",
        "%%html\n",
        "<iframe width=\"560\" height=\"315\" src=\"https://www.youtube.com/embed/YBlOF9ATaHI\" frameborder=\"0\" allowfullscreen></iframe>\n"
      ],
      "execution_count": 0,
      "outputs": [
        {
          "output_type": "display_data",
          "data": {
            "text/html": [
              "<iframe width=\"560\" height=\"315\" src=\"https://www.youtube.com/embed/YBlOF9ATaHI\" frameborder=\"0\" allowfullscreen></iframe>"
            ],
            "text/plain": [
              "<IPython.core.display.HTML object>"
            ]
          },
          "metadata": {
            "tags": []
          }
        }
      ]
    },
    {
      "metadata": {
        "id": "rhalidppmIT2",
        "colab_type": "code",
        "cellView": "form",
        "colab": {}
      },
      "cell_type": "code",
      "source": [
        "#@markdown ##Solution to 5 using GEKKO\n",
        "import numpy as np\n",
        "import matplotlib.pyplot as plt\n",
        "from gekko import GEKKO\n",
        "\n",
        "m = GEKKO()\n",
        "\n",
        "nt = 101\n",
        "m.time = np.linspace(0,12,nt)\n",
        "\n",
        "# Parameters\n",
        "u = m.MV(value=1,ub=1,lb=0)\n",
        "u.STATUS = 1\n",
        "u.DCOST = 0\n",
        "\n",
        "# Variables\n",
        "x1 = m.Var(value=1)\n",
        "x2 = m.Var(value=0)\n",
        "\n",
        "p = np.zeros(nt)\n",
        "p[-1] = 1.0\n",
        "final = m.Param(value=p)\n",
        "\n",
        "# Equations\n",
        "m.Equation(x1.dt()==u*(10*x2-x1))\n",
        "m.Equation(x2.dt()==-u*(10*x2-x1)-(1-u)*x2)\n",
        "\n",
        "# Objective Function\n",
        "m.Obj(-final*(1-x1-x2))\n",
        "\n",
        "m.options.IMODE = 6\n",
        "m.solve()\n",
        "\n",
        "print('Objective: ' + str(1-x1[-1]-x2[-1]))\n",
        "\n",
        "plt.figure(1)\n",
        "\n",
        "plt.subplot(2,1,1)\n",
        "plt.plot(m.time,x1.value,'k:',LineWidth=2,label=r'$x_1$')\n",
        "plt.plot(m.time,x2.value,'b-',LineWidth=2,label=r'$x_2$')\n",
        "plt.ylabel('Value')\n",
        "plt.legend(loc='best')\n",
        "\n",
        "plt.subplot(2,1,2)\n",
        "plt.plot(m.time,u.value,'r-',LineWidth=2,label=r'$u$')\n",
        "plt.legend(loc='best')\n",
        "plt.xlabel('Time')\n",
        "plt.ylabel('Value')\n",
        "\n",
        "plt.show()"
      ],
      "execution_count": 0,
      "outputs": []
    },
    {
      "metadata": {
        "id": "8QoLa3w1mZUw",
        "colab_type": "code",
        "cellView": "form",
        "outputId": "1d63b05b-877a-46c4-f14c-d94b84290c1c",
        "colab": {
          "base_uri": "https://localhost:8080/",
          "height": 336
        }
      },
      "cell_type": "code",
      "source": [
        "#@title\n",
        "%%html\n",
        "<iframe width=\"560\" height=\"315\" src=\"https://www.youtube.com/embed/r42PEsh5Nxg\" frameborder=\"0\" allow=\"autoplay; encrypted-media\" allowfullscreen></iframe>\n"
      ],
      "execution_count": 0,
      "outputs": [
        {
          "output_type": "display_data",
          "data": {
            "text/html": [
              "<iframe width=\"560\" height=\"315\" src=\"https://www.youtube.com/embed/r42PEsh5Nxg\" frameborder=\"0\" allow=\"autoplay; encrypted-media\" allowfullscreen></iframe>"
            ],
            "text/plain": [
              "<IPython.core.display.HTML object>"
            ]
          },
          "metadata": {
            "tags": []
          }
        }
      ]
    }
  ]
}